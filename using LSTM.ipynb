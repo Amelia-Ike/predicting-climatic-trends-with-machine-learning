{
  "cells": [
    {
      "cell_type": "markdown",
      "metadata": {
        "id": "-Ip-Ng-arjer"
      },
      "source": [
        "# Temperature Prediction on the Jena Weather Dataset\n",
        "\n",
        "## Applied Machine Learning (ICS-5110) Coursework\n"
      ]
    },
    {
      "cell_type": "markdown",
      "metadata": {
        "id": "u2VfFU9ivluS"
      },
      "source": [
        "In this Jupyter Notebook, we will implement an **LSTM** algorithm from first principles and use it to predict the temperature on the [Jena Weather Dataset](https://www.kaggle.com/datasets/mnassrib/jena-climate).  \n",
        "\n",
        "The setup and preprocessing steps are kept exactly the same as with naive bayes and random forest classifier to ensure the fairness of the experiments."
      ]
    },
    {
      "cell_type": "markdown",
      "metadata": {
        "id": "hMur32w0eGJ6"
      },
      "source": [
        "# Setup"
      ]
    },
    {
      "cell_type": "markdown",
      "metadata": {
        "id": "eCMv6aNYxogA"
      },
      "source": [
        "## Global variables \n",
        "\n",
        "In this section we define global setup variables that will be used through the course of this notebook.\n",
        "\n",
        "* **KAGGLE_USER** is a string that represents the user's Kaggle username, which is used to access the Kaggle API. This value can be taken from your `kaggle.json` authentication file.\n",
        "* **KAGGLE_KEY** is a string that represents the user's Kaggle API key, which is used to access the Kaggle API. This value can be taken from your `kaggle.json` authentication file.\n",
        "* **DROP_SET_THRESHOLD** is a number that represents the threshold for dropping a set of data from further analysis after feature selection.\n",
        "* **PCA_THRESHOLD** is a number that represents the threshold for selecting the number of PCA components while iterating over the cumulative explained variance.\n",
        "* **N_FOLDS** is a number that represents the number of folds to use in cross-validation, a technique used to evaluate the performance of a machine learning model.\n",
        "\n",
        "To download your `kaggle.json` file from [Kaggle](http://kaggle.com/) and access the Kaggle API, follow these steps:\n",
        "\n",
        "* Go to the Kaggle website and log in to your account.\n",
        "\n",
        "* Click on your avatar in the top right corner of the page and select the \"Account\" option.\n",
        "\n",
        "* Scroll down to the API section and click on the \"Create New API Token\" button. This will download the `kaggle.json` file to your computer."
      ]
    },
    {
      "cell_type": "code",
      "execution_count": null,
      "metadata": {
        "id": "hckcWiIseJTA"
      },
      "outputs": [],
      "source": [
        "#@title Definition\n",
        "\n",
        "KAGGLE_USER = 'ruanchaves93' #@param {type:\"string\"}\n",
        "KAGGLE_KEY = '7bfda777d3fecae222a86d45e14359a5' #@param {type:\"string\"}\n",
        "DROP_SET_THRESHOLD = 0.95 #@param {type:\"number\"}\n",
        "PCA_THRESHOLD = 0.95 #@param {type:\"number\"}\n",
        "N_FOLDS = 10 #@param {type:\"number\"} "
      ]
    },
    {
      "cell_type": "markdown",
      "metadata": {
        "id": "VAxin2iw-acy"
      },
      "source": [
        "## Installation"
      ]
    },
    {
      "cell_type": "markdown",
      "metadata": {
        "id": "yyiO_zOCyMXm"
      },
      "source": [
        "Install code dependencies in quiet mode."
      ]
    },
    {
      "cell_type": "code",
      "execution_count": null,
      "metadata": {
        "id": "hNbElKvx-eZM"
      },
      "outputs": [],
      "source": [
        "!pip install kaggle -qqq"
      ]
    },
    {
      "cell_type": "markdown",
      "metadata": {
        "id": "aOtrdWvu-b_K"
      },
      "source": [
        "\n",
        "## Imports\n"
      ]
    },
    {
      "cell_type": "markdown",
      "metadata": {
        "id": "A57xTsV7yQn3"
      },
      "source": [
        "Import relevant modules."
      ]
    },
    {
      "cell_type": "code",
      "execution_count": null,
      "metadata": {
        "id": "KO6JsmZc-H1K"
      },
      "outputs": [],
      "source": [
        "import os\n",
        "import json\n",
        "\n",
        "import pandas as pd\n",
        "import seaborn as sns\n",
        "import numpy as np\n",
        "from datetime import datetime\n",
        "import matplotlib\n",
        "import matplotlib.pyplot as plt\n",
        "\n",
        "from sklearn.ensemble import RandomForestRegressor\n",
        "from tqdm.notebook import tqdm\n",
        "\n",
        "import numpy as np\n",
        "from typing import List, Dict, Tuple, Union, Optional, Any\n",
        "\n",
        "import torch\n",
        "import random\n",
        "from sklearn.model_selection import train_test_split"
      ]
    },
    {
      "cell_type": "markdown",
      "metadata": {
        "id": "3ojxlTSu-JvS"
      },
      "source": [
        "# Preprocessing"
      ]
    },
    {
      "cell_type": "markdown",
      "metadata": {
        "id": "yDelu8JY3tqg"
      },
      "source": [
        "## Preliminary steps"
      ]
    },
    {
      "cell_type": "markdown",
      "metadata": {
        "id": "6zfAJ1zbympd"
      },
      "source": [
        "### Load dataset"
      ]
    },
    {
      "cell_type": "markdown",
      "metadata": {
        "id": "Evn63vz9zSWV"
      },
      "source": [
        "Load dataset from Kaggle."
      ]
    },
    {
      "cell_type": "code",
      "execution_count": null,
      "metadata": {
        "id": "jTtlWM2I-JVc",
        "outputId": "d729b8a8-cd6a-4bd0-edbc-03e6bd8acbc4"
      },
      "outputs": [
        {
          "name": "stdout",
          "output_type": "stream",
          "text": [
            "mkdir: cannot create directory ‘/home/samin/.kaggle’: File exists\r\n"
          ]
        }
      ],
      "source": [
        "if not os.path.exists(\"~/.kaggle/kaggle.json\"):\n",
        "  with open(\"kaggle.json\", \"w+\") as f:\n",
        "    json.dump({\"username\": KAGGLE_USER,\"key\": KAGGLE_KEY}, f)\n",
        "  !mkdir ~/.kaggle\n",
        "  !cp kaggle.json ~/.kaggle/\n",
        "  !chmod 600 ~/.kaggle/kaggle.json"
      ]
    },
    {
      "cell_type": "code",
      "execution_count": null,
      "metadata": {
        "id": "CeHAmSPtIds0"
      },
      "outputs": [],
      "source": [
        "if not os.path.exists(\"jena-climate.zip\"):\n",
        "  !kaggle datasets download mnassrib/jena-climate\n",
        "\n",
        "if not os.path.exists(\"jena_climate_2009_2016.csv\"):\n",
        "  !unzip jena-climate.zip"
      ]
    },
    {
      "cell_type": "code",
      "execution_count": null,
      "metadata": {
        "id": "KFq68JUt_mkp"
      },
      "outputs": [],
      "source": [
        "dataset = pd.read_csv(\"jena_climate_2009_2016.csv\")\n",
        "dataset = dataset.reset_index()"
      ]
    },
    {
      "cell_type": "code",
      "execution_count": null,
      "metadata": {
        "id": "M3ahwxGXaUfy",
        "outputId": "73f948c9-57b7-4328-ca33-69f4f9d370f1"
      },
      "outputs": [
        {
          "data": {
            "text/html": [
              "<div>\n",
              "<style scoped>\n",
              "    .dataframe tbody tr th:only-of-type {\n",
              "        vertical-align: middle;\n",
              "    }\n",
              "\n",
              "    .dataframe tbody tr th {\n",
              "        vertical-align: top;\n",
              "    }\n",
              "\n",
              "    .dataframe thead th {\n",
              "        text-align: right;\n",
              "    }\n",
              "</style>\n",
              "<table border=\"1\" class=\"dataframe\">\n",
              "  <thead>\n",
              "    <tr style=\"text-align: right;\">\n",
              "      <th></th>\n",
              "      <th>index</th>\n",
              "      <th>Date Time</th>\n",
              "      <th>p (mbar)</th>\n",
              "      <th>T (degC)</th>\n",
              "      <th>Tpot (K)</th>\n",
              "      <th>Tdew (degC)</th>\n",
              "      <th>rh (%)</th>\n",
              "      <th>VPmax (mbar)</th>\n",
              "      <th>VPact (mbar)</th>\n",
              "      <th>VPdef (mbar)</th>\n",
              "      <th>sh (g/kg)</th>\n",
              "      <th>H2OC (mmol/mol)</th>\n",
              "      <th>rho (g/m**3)</th>\n",
              "      <th>wv (m/s)</th>\n",
              "      <th>max. wv (m/s)</th>\n",
              "      <th>wd (deg)</th>\n",
              "    </tr>\n",
              "  </thead>\n",
              "  <tbody>\n",
              "    <tr>\n",
              "      <th>0</th>\n",
              "      <td>0</td>\n",
              "      <td>01.01.2009 00:10:00</td>\n",
              "      <td>996.52</td>\n",
              "      <td>-8.02</td>\n",
              "      <td>265.40</td>\n",
              "      <td>-8.90</td>\n",
              "      <td>93.30</td>\n",
              "      <td>3.33</td>\n",
              "      <td>3.11</td>\n",
              "      <td>0.22</td>\n",
              "      <td>1.94</td>\n",
              "      <td>3.12</td>\n",
              "      <td>1307.75</td>\n",
              "      <td>1.03</td>\n",
              "      <td>1.75</td>\n",
              "      <td>152.3</td>\n",
              "    </tr>\n",
              "    <tr>\n",
              "      <th>1</th>\n",
              "      <td>1</td>\n",
              "      <td>01.01.2009 00:20:00</td>\n",
              "      <td>996.57</td>\n",
              "      <td>-8.41</td>\n",
              "      <td>265.01</td>\n",
              "      <td>-9.28</td>\n",
              "      <td>93.40</td>\n",
              "      <td>3.23</td>\n",
              "      <td>3.02</td>\n",
              "      <td>0.21</td>\n",
              "      <td>1.89</td>\n",
              "      <td>3.03</td>\n",
              "      <td>1309.80</td>\n",
              "      <td>0.72</td>\n",
              "      <td>1.50</td>\n",
              "      <td>136.1</td>\n",
              "    </tr>\n",
              "    <tr>\n",
              "      <th>2</th>\n",
              "      <td>2</td>\n",
              "      <td>01.01.2009 00:30:00</td>\n",
              "      <td>996.53</td>\n",
              "      <td>-8.51</td>\n",
              "      <td>264.91</td>\n",
              "      <td>-9.31</td>\n",
              "      <td>93.90</td>\n",
              "      <td>3.21</td>\n",
              "      <td>3.01</td>\n",
              "      <td>0.20</td>\n",
              "      <td>1.88</td>\n",
              "      <td>3.02</td>\n",
              "      <td>1310.24</td>\n",
              "      <td>0.19</td>\n",
              "      <td>0.63</td>\n",
              "      <td>171.6</td>\n",
              "    </tr>\n",
              "    <tr>\n",
              "      <th>3</th>\n",
              "      <td>3</td>\n",
              "      <td>01.01.2009 00:40:00</td>\n",
              "      <td>996.51</td>\n",
              "      <td>-8.31</td>\n",
              "      <td>265.12</td>\n",
              "      <td>-9.07</td>\n",
              "      <td>94.20</td>\n",
              "      <td>3.26</td>\n",
              "      <td>3.07</td>\n",
              "      <td>0.19</td>\n",
              "      <td>1.92</td>\n",
              "      <td>3.08</td>\n",
              "      <td>1309.19</td>\n",
              "      <td>0.34</td>\n",
              "      <td>0.50</td>\n",
              "      <td>198.0</td>\n",
              "    </tr>\n",
              "    <tr>\n",
              "      <th>4</th>\n",
              "      <td>4</td>\n",
              "      <td>01.01.2009 00:50:00</td>\n",
              "      <td>996.51</td>\n",
              "      <td>-8.27</td>\n",
              "      <td>265.15</td>\n",
              "      <td>-9.04</td>\n",
              "      <td>94.10</td>\n",
              "      <td>3.27</td>\n",
              "      <td>3.08</td>\n",
              "      <td>0.19</td>\n",
              "      <td>1.92</td>\n",
              "      <td>3.09</td>\n",
              "      <td>1309.00</td>\n",
              "      <td>0.32</td>\n",
              "      <td>0.63</td>\n",
              "      <td>214.3</td>\n",
              "    </tr>\n",
              "    <tr>\n",
              "      <th>...</th>\n",
              "      <td>...</td>\n",
              "      <td>...</td>\n",
              "      <td>...</td>\n",
              "      <td>...</td>\n",
              "      <td>...</td>\n",
              "      <td>...</td>\n",
              "      <td>...</td>\n",
              "      <td>...</td>\n",
              "      <td>...</td>\n",
              "      <td>...</td>\n",
              "      <td>...</td>\n",
              "      <td>...</td>\n",
              "      <td>...</td>\n",
              "      <td>...</td>\n",
              "      <td>...</td>\n",
              "      <td>...</td>\n",
              "    </tr>\n",
              "    <tr>\n",
              "      <th>420546</th>\n",
              "      <td>420546</td>\n",
              "      <td>31.12.2016 23:20:00</td>\n",
              "      <td>1000.07</td>\n",
              "      <td>-4.05</td>\n",
              "      <td>269.10</td>\n",
              "      <td>-8.13</td>\n",
              "      <td>73.10</td>\n",
              "      <td>4.52</td>\n",
              "      <td>3.30</td>\n",
              "      <td>1.22</td>\n",
              "      <td>2.06</td>\n",
              "      <td>3.30</td>\n",
              "      <td>1292.98</td>\n",
              "      <td>0.67</td>\n",
              "      <td>1.52</td>\n",
              "      <td>240.0</td>\n",
              "    </tr>\n",
              "    <tr>\n",
              "      <th>420547</th>\n",
              "      <td>420547</td>\n",
              "      <td>31.12.2016 23:30:00</td>\n",
              "      <td>999.93</td>\n",
              "      <td>-3.35</td>\n",
              "      <td>269.81</td>\n",
              "      <td>-8.06</td>\n",
              "      <td>69.71</td>\n",
              "      <td>4.77</td>\n",
              "      <td>3.32</td>\n",
              "      <td>1.44</td>\n",
              "      <td>2.07</td>\n",
              "      <td>3.32</td>\n",
              "      <td>1289.44</td>\n",
              "      <td>1.14</td>\n",
              "      <td>1.92</td>\n",
              "      <td>234.3</td>\n",
              "    </tr>\n",
              "    <tr>\n",
              "      <th>420548</th>\n",
              "      <td>420548</td>\n",
              "      <td>31.12.2016 23:40:00</td>\n",
              "      <td>999.82</td>\n",
              "      <td>-3.16</td>\n",
              "      <td>270.01</td>\n",
              "      <td>-8.21</td>\n",
              "      <td>67.91</td>\n",
              "      <td>4.84</td>\n",
              "      <td>3.28</td>\n",
              "      <td>1.55</td>\n",
              "      <td>2.05</td>\n",
              "      <td>3.28</td>\n",
              "      <td>1288.39</td>\n",
              "      <td>1.08</td>\n",
              "      <td>2.00</td>\n",
              "      <td>215.2</td>\n",
              "    </tr>\n",
              "    <tr>\n",
              "      <th>420549</th>\n",
              "      <td>420549</td>\n",
              "      <td>31.12.2016 23:50:00</td>\n",
              "      <td>999.81</td>\n",
              "      <td>-4.23</td>\n",
              "      <td>268.94</td>\n",
              "      <td>-8.53</td>\n",
              "      <td>71.80</td>\n",
              "      <td>4.46</td>\n",
              "      <td>3.20</td>\n",
              "      <td>1.26</td>\n",
              "      <td>1.99</td>\n",
              "      <td>3.20</td>\n",
              "      <td>1293.56</td>\n",
              "      <td>1.49</td>\n",
              "      <td>2.16</td>\n",
              "      <td>225.8</td>\n",
              "    </tr>\n",
              "    <tr>\n",
              "      <th>420550</th>\n",
              "      <td>420550</td>\n",
              "      <td>01.01.2017 00:00:00</td>\n",
              "      <td>999.82</td>\n",
              "      <td>-4.82</td>\n",
              "      <td>268.36</td>\n",
              "      <td>-8.42</td>\n",
              "      <td>75.70</td>\n",
              "      <td>4.27</td>\n",
              "      <td>3.23</td>\n",
              "      <td>1.04</td>\n",
              "      <td>2.01</td>\n",
              "      <td>3.23</td>\n",
              "      <td>1296.38</td>\n",
              "      <td>1.23</td>\n",
              "      <td>1.96</td>\n",
              "      <td>184.9</td>\n",
              "    </tr>\n",
              "  </tbody>\n",
              "</table>\n",
              "<p>420551 rows × 16 columns</p>\n",
              "</div>"
            ],
            "text/plain": [
              "         index            Date Time  p (mbar)  T (degC)  Tpot (K)  \\\n",
              "0            0  01.01.2009 00:10:00    996.52     -8.02    265.40   \n",
              "1            1  01.01.2009 00:20:00    996.57     -8.41    265.01   \n",
              "2            2  01.01.2009 00:30:00    996.53     -8.51    264.91   \n",
              "3            3  01.01.2009 00:40:00    996.51     -8.31    265.12   \n",
              "4            4  01.01.2009 00:50:00    996.51     -8.27    265.15   \n",
              "...        ...                  ...       ...       ...       ...   \n",
              "420546  420546  31.12.2016 23:20:00   1000.07     -4.05    269.10   \n",
              "420547  420547  31.12.2016 23:30:00    999.93     -3.35    269.81   \n",
              "420548  420548  31.12.2016 23:40:00    999.82     -3.16    270.01   \n",
              "420549  420549  31.12.2016 23:50:00    999.81     -4.23    268.94   \n",
              "420550  420550  01.01.2017 00:00:00    999.82     -4.82    268.36   \n",
              "\n",
              "        Tdew (degC)  rh (%)  VPmax (mbar)  VPact (mbar)  VPdef (mbar)  \\\n",
              "0             -8.90   93.30          3.33          3.11          0.22   \n",
              "1             -9.28   93.40          3.23          3.02          0.21   \n",
              "2             -9.31   93.90          3.21          3.01          0.20   \n",
              "3             -9.07   94.20          3.26          3.07          0.19   \n",
              "4             -9.04   94.10          3.27          3.08          0.19   \n",
              "...             ...     ...           ...           ...           ...   \n",
              "420546        -8.13   73.10          4.52          3.30          1.22   \n",
              "420547        -8.06   69.71          4.77          3.32          1.44   \n",
              "420548        -8.21   67.91          4.84          3.28          1.55   \n",
              "420549        -8.53   71.80          4.46          3.20          1.26   \n",
              "420550        -8.42   75.70          4.27          3.23          1.04   \n",
              "\n",
              "        sh (g/kg)  H2OC (mmol/mol)  rho (g/m**3)  wv (m/s)  max. wv (m/s)  \\\n",
              "0            1.94             3.12       1307.75      1.03           1.75   \n",
              "1            1.89             3.03       1309.80      0.72           1.50   \n",
              "2            1.88             3.02       1310.24      0.19           0.63   \n",
              "3            1.92             3.08       1309.19      0.34           0.50   \n",
              "4            1.92             3.09       1309.00      0.32           0.63   \n",
              "...           ...              ...           ...       ...            ...   \n",
              "420546       2.06             3.30       1292.98      0.67           1.52   \n",
              "420547       2.07             3.32       1289.44      1.14           1.92   \n",
              "420548       2.05             3.28       1288.39      1.08           2.00   \n",
              "420549       1.99             3.20       1293.56      1.49           2.16   \n",
              "420550       2.01             3.23       1296.38      1.23           1.96   \n",
              "\n",
              "        wd (deg)  \n",
              "0          152.3  \n",
              "1          136.1  \n",
              "2          171.6  \n",
              "3          198.0  \n",
              "4          214.3  \n",
              "...          ...  \n",
              "420546     240.0  \n",
              "420547     234.3  \n",
              "420548     215.2  \n",
              "420549     225.8  \n",
              "420550     184.9  \n",
              "\n",
              "[420551 rows x 16 columns]"
            ]
          },
          "execution_count": 7,
          "metadata": {},
          "output_type": "execute_result"
        }
      ],
      "source": [
        "dataset"
      ]
    },
    {
      "cell_type": "markdown",
      "metadata": {
        "id": "VuwCe14co4dI"
      },
      "source": [
        "### Drop temperature columns"
      ]
    },
    {
      "cell_type": "markdown",
      "metadata": {
        "id": "2pm8XHZpzMwm"
      },
      "source": [
        "\n",
        "The columns `\"T (degC)\"`, `\"Tpot (K)\"`, and `\"Tdew (degC)\"` represent the temperature in degrees Celsius, the potential temperature in Kelvin, and the dew point temperature in degrees Celsius, respectively. Since temperature can be represented in different units, these columns represent the same physical quantity (temperature).\n",
        "\n",
        "Since these columns are redundant and represent the same thing as the `\"T (degC)\"` column, we must drop them from the dataset to avoid data leakage."
      ]
    },
    {
      "cell_type": "code",
      "execution_count": null,
      "metadata": {
        "id": "7-nBTDZ-Bhpo"
      },
      "outputs": [],
      "source": [
        "dataset.drop(\"Tpot (K)\", inplace=True, axis=1)\n",
        "dataset.drop(\"Tdew (degC)\", inplace=True, axis=1)"
      ]
    },
    {
      "cell_type": "markdown",
      "metadata": {
        "id": "xIgObx2zp_fn"
      },
      "source": [
        "### Convert date and time strings"
      ]
    },
    {
      "cell_type": "markdown",
      "metadata": {
        "id": "VYyhWA7_zXrF"
      },
      "source": [
        "We define a function that converts date and time strings to timestamps, days of the year, and seconds since midnight. This will capture all three time factors that can affect the temperature at a given point: the date, the season, and the time of the day."
      ]
    },
    {
      "cell_type": "code",
      "execution_count": null,
      "metadata": {
        "id": "RGWqVobDVJLW",
        "outputId": "881776f8-703a-49a9-9e4b-c9b57bf044df"
      },
      "outputs": [
        {
          "data": {
            "text/html": [
              "<div>\n",
              "<style scoped>\n",
              "    .dataframe tbody tr th:only-of-type {\n",
              "        vertical-align: middle;\n",
              "    }\n",
              "\n",
              "    .dataframe tbody tr th {\n",
              "        vertical-align: top;\n",
              "    }\n",
              "\n",
              "    .dataframe thead th {\n",
              "        text-align: right;\n",
              "    }\n",
              "</style>\n",
              "<table border=\"1\" class=\"dataframe\">\n",
              "  <thead>\n",
              "    <tr style=\"text-align: right;\">\n",
              "      <th></th>\n",
              "      <th>index</th>\n",
              "      <th>p (mbar)</th>\n",
              "      <th>T (degC)</th>\n",
              "      <th>rh (%)</th>\n",
              "      <th>VPmax (mbar)</th>\n",
              "      <th>VPact (mbar)</th>\n",
              "      <th>VPdef (mbar)</th>\n",
              "      <th>sh (g/kg)</th>\n",
              "      <th>H2OC (mmol/mol)</th>\n",
              "      <th>rho (g/m**3)</th>\n",
              "      <th>wv (m/s)</th>\n",
              "      <th>max. wv (m/s)</th>\n",
              "      <th>wd (deg)</th>\n",
              "      <th>timestamp</th>\n",
              "      <th>year_day</th>\n",
              "      <th>seconds</th>\n",
              "    </tr>\n",
              "  </thead>\n",
              "  <tbody>\n",
              "    <tr>\n",
              "      <th>0</th>\n",
              "      <td>0</td>\n",
              "      <td>996.52</td>\n",
              "      <td>-8.02</td>\n",
              "      <td>93.30</td>\n",
              "      <td>3.33</td>\n",
              "      <td>3.11</td>\n",
              "      <td>0.22</td>\n",
              "      <td>1.94</td>\n",
              "      <td>3.12</td>\n",
              "      <td>1307.75</td>\n",
              "      <td>1.03</td>\n",
              "      <td>1.75</td>\n",
              "      <td>152.3</td>\n",
              "      <td>1.230765e+09</td>\n",
              "      <td>1</td>\n",
              "      <td>600</td>\n",
              "    </tr>\n",
              "    <tr>\n",
              "      <th>1</th>\n",
              "      <td>1</td>\n",
              "      <td>996.57</td>\n",
              "      <td>-8.41</td>\n",
              "      <td>93.40</td>\n",
              "      <td>3.23</td>\n",
              "      <td>3.02</td>\n",
              "      <td>0.21</td>\n",
              "      <td>1.89</td>\n",
              "      <td>3.03</td>\n",
              "      <td>1309.80</td>\n",
              "      <td>0.72</td>\n",
              "      <td>1.50</td>\n",
              "      <td>136.1</td>\n",
              "      <td>1.230766e+09</td>\n",
              "      <td>1</td>\n",
              "      <td>1200</td>\n",
              "    </tr>\n",
              "    <tr>\n",
              "      <th>2</th>\n",
              "      <td>2</td>\n",
              "      <td>996.53</td>\n",
              "      <td>-8.51</td>\n",
              "      <td>93.90</td>\n",
              "      <td>3.21</td>\n",
              "      <td>3.01</td>\n",
              "      <td>0.20</td>\n",
              "      <td>1.88</td>\n",
              "      <td>3.02</td>\n",
              "      <td>1310.24</td>\n",
              "      <td>0.19</td>\n",
              "      <td>0.63</td>\n",
              "      <td>171.6</td>\n",
              "      <td>1.230766e+09</td>\n",
              "      <td>1</td>\n",
              "      <td>1800</td>\n",
              "    </tr>\n",
              "    <tr>\n",
              "      <th>3</th>\n",
              "      <td>3</td>\n",
              "      <td>996.51</td>\n",
              "      <td>-8.31</td>\n",
              "      <td>94.20</td>\n",
              "      <td>3.26</td>\n",
              "      <td>3.07</td>\n",
              "      <td>0.19</td>\n",
              "      <td>1.92</td>\n",
              "      <td>3.08</td>\n",
              "      <td>1309.19</td>\n",
              "      <td>0.34</td>\n",
              "      <td>0.50</td>\n",
              "      <td>198.0</td>\n",
              "      <td>1.230767e+09</td>\n",
              "      <td>1</td>\n",
              "      <td>2400</td>\n",
              "    </tr>\n",
              "    <tr>\n",
              "      <th>4</th>\n",
              "      <td>4</td>\n",
              "      <td>996.51</td>\n",
              "      <td>-8.27</td>\n",
              "      <td>94.10</td>\n",
              "      <td>3.27</td>\n",
              "      <td>3.08</td>\n",
              "      <td>0.19</td>\n",
              "      <td>1.92</td>\n",
              "      <td>3.09</td>\n",
              "      <td>1309.00</td>\n",
              "      <td>0.32</td>\n",
              "      <td>0.63</td>\n",
              "      <td>214.3</td>\n",
              "      <td>1.230767e+09</td>\n",
              "      <td>1</td>\n",
              "      <td>3000</td>\n",
              "    </tr>\n",
              "    <tr>\n",
              "      <th>...</th>\n",
              "      <td>...</td>\n",
              "      <td>...</td>\n",
              "      <td>...</td>\n",
              "      <td>...</td>\n",
              "      <td>...</td>\n",
              "      <td>...</td>\n",
              "      <td>...</td>\n",
              "      <td>...</td>\n",
              "      <td>...</td>\n",
              "      <td>...</td>\n",
              "      <td>...</td>\n",
              "      <td>...</td>\n",
              "      <td>...</td>\n",
              "      <td>...</td>\n",
              "      <td>...</td>\n",
              "      <td>...</td>\n",
              "    </tr>\n",
              "    <tr>\n",
              "      <th>420546</th>\n",
              "      <td>420546</td>\n",
              "      <td>1000.07</td>\n",
              "      <td>-4.05</td>\n",
              "      <td>73.10</td>\n",
              "      <td>4.52</td>\n",
              "      <td>3.30</td>\n",
              "      <td>1.22</td>\n",
              "      <td>2.06</td>\n",
              "      <td>3.30</td>\n",
              "      <td>1292.98</td>\n",
              "      <td>0.67</td>\n",
              "      <td>1.52</td>\n",
              "      <td>240.0</td>\n",
              "      <td>1.483223e+09</td>\n",
              "      <td>366</td>\n",
              "      <td>84000</td>\n",
              "    </tr>\n",
              "    <tr>\n",
              "      <th>420547</th>\n",
              "      <td>420547</td>\n",
              "      <td>999.93</td>\n",
              "      <td>-3.35</td>\n",
              "      <td>69.71</td>\n",
              "      <td>4.77</td>\n",
              "      <td>3.32</td>\n",
              "      <td>1.44</td>\n",
              "      <td>2.07</td>\n",
              "      <td>3.32</td>\n",
              "      <td>1289.44</td>\n",
              "      <td>1.14</td>\n",
              "      <td>1.92</td>\n",
              "      <td>234.3</td>\n",
              "      <td>1.483223e+09</td>\n",
              "      <td>366</td>\n",
              "      <td>84600</td>\n",
              "    </tr>\n",
              "    <tr>\n",
              "      <th>420548</th>\n",
              "      <td>420548</td>\n",
              "      <td>999.82</td>\n",
              "      <td>-3.16</td>\n",
              "      <td>67.91</td>\n",
              "      <td>4.84</td>\n",
              "      <td>3.28</td>\n",
              "      <td>1.55</td>\n",
              "      <td>2.05</td>\n",
              "      <td>3.28</td>\n",
              "      <td>1288.39</td>\n",
              "      <td>1.08</td>\n",
              "      <td>2.00</td>\n",
              "      <td>215.2</td>\n",
              "      <td>1.483224e+09</td>\n",
              "      <td>366</td>\n",
              "      <td>85200</td>\n",
              "    </tr>\n",
              "    <tr>\n",
              "      <th>420549</th>\n",
              "      <td>420549</td>\n",
              "      <td>999.81</td>\n",
              "      <td>-4.23</td>\n",
              "      <td>71.80</td>\n",
              "      <td>4.46</td>\n",
              "      <td>3.20</td>\n",
              "      <td>1.26</td>\n",
              "      <td>1.99</td>\n",
              "      <td>3.20</td>\n",
              "      <td>1293.56</td>\n",
              "      <td>1.49</td>\n",
              "      <td>2.16</td>\n",
              "      <td>225.8</td>\n",
              "      <td>1.483225e+09</td>\n",
              "      <td>366</td>\n",
              "      <td>85800</td>\n",
              "    </tr>\n",
              "    <tr>\n",
              "      <th>420550</th>\n",
              "      <td>420550</td>\n",
              "      <td>999.82</td>\n",
              "      <td>-4.82</td>\n",
              "      <td>75.70</td>\n",
              "      <td>4.27</td>\n",
              "      <td>3.23</td>\n",
              "      <td>1.04</td>\n",
              "      <td>2.01</td>\n",
              "      <td>3.23</td>\n",
              "      <td>1296.38</td>\n",
              "      <td>1.23</td>\n",
              "      <td>1.96</td>\n",
              "      <td>184.9</td>\n",
              "      <td>1.483225e+09</td>\n",
              "      <td>1</td>\n",
              "      <td>0</td>\n",
              "    </tr>\n",
              "  </tbody>\n",
              "</table>\n",
              "<p>420551 rows × 16 columns</p>\n",
              "</div>"
            ],
            "text/plain": [
              "         index  p (mbar)  T (degC)  rh (%)  VPmax (mbar)  VPact (mbar)  \\\n",
              "0            0    996.52     -8.02   93.30          3.33          3.11   \n",
              "1            1    996.57     -8.41   93.40          3.23          3.02   \n",
              "2            2    996.53     -8.51   93.90          3.21          3.01   \n",
              "3            3    996.51     -8.31   94.20          3.26          3.07   \n",
              "4            4    996.51     -8.27   94.10          3.27          3.08   \n",
              "...        ...       ...       ...     ...           ...           ...   \n",
              "420546  420546   1000.07     -4.05   73.10          4.52          3.30   \n",
              "420547  420547    999.93     -3.35   69.71          4.77          3.32   \n",
              "420548  420548    999.82     -3.16   67.91          4.84          3.28   \n",
              "420549  420549    999.81     -4.23   71.80          4.46          3.20   \n",
              "420550  420550    999.82     -4.82   75.70          4.27          3.23   \n",
              "\n",
              "        VPdef (mbar)  sh (g/kg)  H2OC (mmol/mol)  rho (g/m**3)  wv (m/s)  \\\n",
              "0               0.22       1.94             3.12       1307.75      1.03   \n",
              "1               0.21       1.89             3.03       1309.80      0.72   \n",
              "2               0.20       1.88             3.02       1310.24      0.19   \n",
              "3               0.19       1.92             3.08       1309.19      0.34   \n",
              "4               0.19       1.92             3.09       1309.00      0.32   \n",
              "...              ...        ...              ...           ...       ...   \n",
              "420546          1.22       2.06             3.30       1292.98      0.67   \n",
              "420547          1.44       2.07             3.32       1289.44      1.14   \n",
              "420548          1.55       2.05             3.28       1288.39      1.08   \n",
              "420549          1.26       1.99             3.20       1293.56      1.49   \n",
              "420550          1.04       2.01             3.23       1296.38      1.23   \n",
              "\n",
              "        max. wv (m/s)  wd (deg)     timestamp  year_day  seconds  \n",
              "0                1.75     152.3  1.230765e+09         1      600  \n",
              "1                1.50     136.1  1.230766e+09         1     1200  \n",
              "2                0.63     171.6  1.230766e+09         1     1800  \n",
              "3                0.50     198.0  1.230767e+09         1     2400  \n",
              "4                0.63     214.3  1.230767e+09         1     3000  \n",
              "...               ...       ...           ...       ...      ...  \n",
              "420546           1.52     240.0  1.483223e+09       366    84000  \n",
              "420547           1.92     234.3  1.483223e+09       366    84600  \n",
              "420548           2.00     215.2  1.483224e+09       366    85200  \n",
              "420549           2.16     225.8  1.483225e+09       366    85800  \n",
              "420550           1.96     184.9  1.483225e+09         1        0  \n",
              "\n",
              "[420551 rows x 16 columns]"
            ]
          },
          "execution_count": 9,
          "metadata": {},
          "output_type": "execute_result"
        }
      ],
      "source": [
        "def convert_to_timestamp(date):\n",
        "  dt_object = datetime.strptime(date, '%d.%m.%Y %H:%M:%S')\n",
        "  seconds_since_midnight = dt_object.hour * 60 * 60 + dt_object.minute * 60 + dt_object.second\n",
        "  return dt_object.timestamp(), dt_object.timetuple().tm_yday, seconds_since_midnight\n",
        "\n",
        "dataset[[\"timestamp\", \"year_day\", \"seconds\"]] = list(dataset[\"Date Time\"].apply(convert_to_timestamp))\n",
        "dataset.drop(\"Date Time\", inplace=True, axis=1)\n",
        "dataset"
      ]
    },
    {
      "cell_type": "markdown",
      "metadata": {
        "id": "E9VqHMxtqj_W"
      },
      "source": [
        "### Define data splits"
      ]
    },
    {
      "cell_type": "markdown",
      "metadata": {
        "id": "WUALx27lz677"
      },
      "source": [
        "\n",
        "We split the data into two parts, one for training and development and one for testing. \n",
        "\n",
        "Then we use a `factory` to create a nested dictionary structure to store the data from the DataFrame, where the training and development data and the testing data are stored in different keys, and the raw data and processed data are stored in different subkeys. "
      ]
    },
    {
      "cell_type": "code",
      "execution_count": null,
      "metadata": {
        "id": "gN_nUClFCNpw",
        "outputId": "e90c27d9-21df-4016-8046-4ee0bf04b02f"
      },
      "outputs": [
        {
          "name": "stderr",
          "output_type": "stream",
          "text": [
            "/home/samin/anaconda3/lib/python3.7/site-packages/pandas/core/frame.py:4174: SettingWithCopyWarning: \n",
            "A value is trying to be set on a copy of a slice from a DataFrame\n",
            "\n",
            "See the caveats in the documentation: https://pandas.pydata.org/pandas-docs/stable/user_guide/indexing.html#returning-a-view-versus-a-copy\n",
            "  errors=errors,\n"
          ]
        }
      ],
      "source": [
        "from collections import defaultdict\n",
        "\n",
        "def factory(): return defaultdict(factory)\n",
        "data = factory()\n",
        "\n",
        "test = dataset.tail(int(len(dataset) * 0.2))\n",
        "df = dataset.head(int(len(dataset) * 0.8))\n",
        "\n",
        "data[\"test\"][\"raw\"][\"y\"][\"ndarray\"] = test[\"T (degC)\"].to_numpy()\n",
        "data[\"test\"][\"raw\"][\"y\"][\"columns\"] = list(test[[\"T (degC)\"]].columns)\n",
        "\n",
        "data[\"train+dev\"][\"raw\"][\"y\"][\"ndarray\"] = df[\"T (degC)\"].to_numpy()\n",
        "data[\"train+dev\"][\"raw\"][\"y\"][\"columns\"] = list(df[[\"T (degC)\"]].columns)\n",
        "\n",
        "df.drop(\"T (degC)\", inplace=True, axis=1)\n",
        "test.drop(\"T (degC)\", inplace=True, axis=1)\n",
        "\n",
        "df_X = df.to_numpy()\n",
        "data[\"test\"][\"raw\"][\"x\"][\"ndarray\"] = test.to_numpy()\n",
        "data[\"test\"][\"raw\"][\"x\"][\"columns\"] = list(test.columns)\n",
        "\n",
        "data[\"train+dev\"][\"raw\"][\"x\"][\"ndarray\"] = df.to_numpy()\n",
        "data[\"train+dev\"][\"raw\"][\"x\"][\"columns\"] = list(df.columns)"
      ]
    },
    {
      "cell_type": "markdown",
      "metadata": {
        "id": "xsHpcK4HrcVG"
      },
      "source": [
        "### Visualize the splits"
      ]
    },
    {
      "cell_type": "markdown",
      "metadata": {
        "id": "rPmZhydcz-c-"
      },
      "source": [
        "\n",
        "Here we define `visualize_data` that takes a dictionary as input and prints a representation of it in JSON format. The representation replaces the values of each key with the length of the value if it is not a string, and recursively processes nested dictionaries. The resulting dictionary is printed in JSON format."
      ]
    },
    {
      "cell_type": "code",
      "execution_count": null,
      "metadata": {
        "id": "fm1jbHF0tYki",
        "outputId": "95ce73c3-97d7-49e2-d744-4c89b12f6a21"
      },
      "outputs": [
        {
          "name": "stdout",
          "output_type": "stream",
          "text": [
            "{\n",
            "    \"test\": {\n",
            "        \"raw\": {\n",
            "            \"y\": {\n",
            "                \"ndarray\": 84110,\n",
            "                \"columns\": 1\n",
            "            },\n",
            "            \"x\": {\n",
            "                \"ndarray\": 84110,\n",
            "                \"columns\": 15\n",
            "            }\n",
            "        }\n",
            "    },\n",
            "    \"train+dev\": {\n",
            "        \"raw\": {\n",
            "            \"y\": {\n",
            "                \"ndarray\": 336440,\n",
            "                \"columns\": 1\n",
            "            },\n",
            "            \"x\": {\n",
            "                \"ndarray\": 336440,\n",
            "                \"columns\": 15\n",
            "            }\n",
            "        }\n",
            "    }\n",
            "}\n"
          ]
        }
      ],
      "source": [
        "import yaml\n",
        "import copy\n",
        "import collections.abc\n",
        "import json\n",
        "import copy\n",
        "\n",
        "def visualize_data(data: dict) -> str:\n",
        "  \"\"\"\n",
        "  Visualizes the input data by returning a JSON representation of the data,\n",
        "  where all non-string values are replaced by their lengths (if possible).\n",
        "  \"\"\"\n",
        "  def get_repr(data: dict) -> dict:\n",
        "    \"\"\"\n",
        "    Returns a copy of the input data where all non-string values are replaced\n",
        "    by their lengths (if possible).\n",
        "    \"\"\"\n",
        "    for key, value in data.items():\n",
        "      if isinstance(value, dict):\n",
        "        # Recursively apply the function to nested dictionaries.\n",
        "        data[key] = get_repr(value)\n",
        "      elif not isinstance(value, str):\n",
        "        try:\n",
        "          # Replace the value with its length if possible.\n",
        "          data[key] = len(value)\n",
        "        except TypeError:\n",
        "          # Do nothing if the value is not a sequence (i.e., it doesn't have a length).\n",
        "          pass\n",
        "    return data\n",
        "  # Return a JSON representation of the data.\n",
        "  return json.dumps(get_repr(copy.deepcopy(data)), indent=4)\n",
        "\n",
        "\n",
        "print(visualize_data(data))"
      ]
    },
    {
      "cell_type": "markdown",
      "metadata": {
        "id": "oNgUoLdK0tfD"
      },
      "source": [
        "## Feature Selection"
      ]
    },
    {
      "cell_type": "markdown",
      "metadata": {
        "id": "ggUbOuZtxuD3"
      },
      "source": [
        "\n",
        "\n",
        "Feature selection is a technique used to identify and select only the most relevant features from a dataset. This is useful because it reduces the dimensionality of the input data, which can improve the performance of machine learning models. Here we will perform feature selection using the filter method and the Pearson correlation coefficient. \n",
        "\n",
        "Our implementation of the Pearson correlation coefficient can be described by the formula:\n",
        "\n",
        "$$ \\rho = \\frac{\\sum_{i=1}^{n}(x_i - \\bar{x})(y_i - \\bar{y})}{\\sqrt{\\sum_{i=1}^{n}(x_i - \\bar{x})^2 \\sum_{i=1}^{n}(y_i - \\bar{y})^2}} $$\n",
        "\n",
        "Where $x$ and $y$ are the input arrays and $\\bar{x}$ and $\\bar{y}$ are the means of the input arrays.\n",
        "\n",
        "By calculating the Pearson correlation coefficient between all pairs of features, we can identify those that are highly correlated and might not provide any additional useful information for our model. These highly correlated features can then be removed, reducing the dimensionality of the input data and improving the performance of the model."
      ]
    },
    {
      "cell_type": "code",
      "execution_count": null,
      "metadata": {
        "id": "3f3I59uFh257"
      },
      "outputs": [],
      "source": [
        "def pearson_correlation(a: np.ndarray, b: np.ndarray) -> float:\n",
        "    # Normalize the input arrays.\n",
        "    norm_a = a - a.mean()\n",
        "    norm_b = b - b.mean()\n",
        "    # Compute the squared norms of the input arrays.\n",
        "    squared_norm_a = norm_a ** 2\n",
        "    squared_norm_b = norm_b ** 2\n",
        "    # Compute the dot product of the normalized input arrays.\n",
        "    dot_product_a_b = norm_a * norm_b\n",
        "    # Compute the Pearson correlation coefficient.\n",
        "    p_value = dot_product_a_b.sum() / np.sqrt(squared_norm_a.sum() * squared_norm_b.sum())\n",
        "    return p_value\n",
        "\n",
        "def get_corr_matrix(x: np.ndarray) -> np.ndarray:\n",
        "  # Initialize the correlation matrix with zeros.\n",
        "  corr_matrix = np.zeros((x.shape[1], x.shape[1]))\n",
        "  # Get the upper triangle indices of the correlation matrix.\n",
        "  i_indices, j_indices = np.triu_indices(x.shape[1])\n",
        "  # Transpose the input data. Each column will become a row.\n",
        "  x_t = x.T\n",
        "  for k in range(len(i_indices)):\n",
        "    i = i_indices[k]\n",
        "    j = j_indices[k]\n",
        "    if i == j:\n",
        "      # Skip the diagonal.\n",
        "      continue\n",
        "    # Get the ith and jth columns of the transposed input data.\n",
        "    a = x_t[i]\n",
        "    b = x_t[j]\n",
        "    # Compute the Pearson correlation coefficient for the ith and jth columns.\n",
        "    corr_matrix[i][j] = pearson_correlation(a,b)\n",
        "  return corr_matrix\n",
        "\n",
        "def get_drop_set(labels: List[str], corr_matrix: np.ndarray, threshold: float = 0.95) -> Tuple[List[str], List[int]]:\n",
        "  # Compute the absolute value of the correlation matrix.\n",
        "  abs_corr_matrix = np.absolute(corr_matrix)\n",
        "  # Zip the indices and values of the columns with a correlation coefficient greater than the threshold.\n",
        "  drop_set = [(index, item) for index, item in enumerate(labels) if any(abs_corr_matrix[index] > threshold) ]\n",
        "  # Unzip the list of tuples into two lists: the labels and the indices.\n",
        "  drop_set_indices, drop_set_values = list(zip(*drop_set))\n",
        "  return drop_set_values, drop_set_indices"
      ]
    },
    {
      "cell_type": "code",
      "execution_count": null,
      "metadata": {
        "id": "UhCPiU3pkZuR",
        "outputId": "68811d2b-5205-46b4-b108-5a81ff9bf096"
      },
      "outputs": [
        {
          "name": "stdout",
          "output_type": "stream",
          "text": [
            "Dropped columns for train+dev : ('index', 'VPact (mbar)', 'sh (g/kg)', 'wv (m/s)')\n"
          ]
        }
      ],
      "source": [
        "# Iterating over each dataset for train and test and\n",
        "# dropping the columns not needed\n",
        "\n",
        "\n",
        "raw_columns = data[\"train+dev\"][\"raw\"][\"x\"][\"columns\"]\n",
        "raw_data = data[\"train+dev\"][\"raw\"][\"x\"][\"ndarray\"]\n",
        "\n",
        "corr_matrix = get_corr_matrix(raw_data)\n",
        "drop_set_values, drop_set_indices = get_drop_set(raw_columns, corr_matrix, threshold=DROP_SET_THRESHOLD)\n",
        "print(f\"Dropped columns for train+dev : {drop_set_values}\")\n",
        "\n",
        "n_cols = data[\"train+dev\"][\"raw\"][\"x\"][\"ndarray\"].shape[1]\n",
        "mask = np.ones(n_cols).astype(bool)\n",
        "mask[list(drop_set_indices)] = False\n",
        "\n",
        "for dataset in [\"train+dev\", \"test\"]:\n",
        "    data[dataset][\"fs\"][\"x\"][\"ndarray\"] = data[dataset][\"raw\"][\"x\"][\"ndarray\"][:, mask]\n",
        "    data[dataset][\"fs\"][\"x\"][\"columns\"] = [x for x in raw_columns if x not in drop_set_values]\n",
        "    data[dataset][\"fs\"][\"y\"] = data[dataset][\"raw\"][\"y\"]"
      ]
    },
    {
      "cell_type": "code",
      "execution_count": null,
      "metadata": {
        "id": "IKoXvFyl506W",
        "outputId": "da55adaa-42c4-4b7e-d9cb-5a7a67718bda"
      },
      "outputs": [
        {
          "name": "stdout",
          "output_type": "stream",
          "text": [
            "{\n",
            "    \"test\": {\n",
            "        \"raw\": {\n",
            "            \"y\": {\n",
            "                \"ndarray\": 84110,\n",
            "                \"columns\": 1\n",
            "            },\n",
            "            \"x\": {\n",
            "                \"ndarray\": 84110,\n",
            "                \"columns\": 15\n",
            "            }\n",
            "        },\n",
            "        \"fs\": {\n",
            "            \"x\": {\n",
            "                \"ndarray\": 84110,\n",
            "                \"columns\": 11\n",
            "            },\n",
            "            \"y\": {\n",
            "                \"ndarray\": 84110,\n",
            "                \"columns\": 1\n",
            "            }\n",
            "        }\n",
            "    },\n",
            "    \"train+dev\": {\n",
            "        \"raw\": {\n",
            "            \"y\": {\n",
            "                \"ndarray\": 336440,\n",
            "                \"columns\": 1\n",
            "            },\n",
            "            \"x\": {\n",
            "                \"ndarray\": 336440,\n",
            "                \"columns\": 15\n",
            "            }\n",
            "        },\n",
            "        \"fs\": {\n",
            "            \"x\": {\n",
            "                \"ndarray\": 336440,\n",
            "                \"columns\": 11\n",
            "            },\n",
            "            \"y\": {\n",
            "                \"ndarray\": 336440,\n",
            "                \"columns\": 1\n",
            "            }\n",
            "        }\n",
            "    }\n",
            "}\n"
          ]
        }
      ],
      "source": [
        "print(visualize_data(data))"
      ]
    },
    {
      "cell_type": "markdown",
      "metadata": {
        "id": "_Um7Kres0vv1"
      },
      "source": [
        "## Rescaling and Normalization"
      ]
    },
    {
      "cell_type": "markdown",
      "metadata": {
        "id": "mp0AVUJb1AJl"
      },
      "source": [
        "Here we apply rescaling and normalization techniques to our training data. These preprocessing steps are essential for ensuring that the data is properly formatted and ready for principal component analysis (PCA), which we will perform in the next section.\n",
        "\n",
        "The formulas for min-max scaling and mean normalization are implemented as follows:\n",
        "\n",
        "$$\\text{min max scaling}(arr) = \\frac{arr - \\text{min}(arr)}{\\text{max}(arr) - \\text{min}(arr)}$$\n",
        "\n",
        "$$\\text{mean normalisation}(arr) = \\frac{arr - \\text{mean}(arr)}{\\text{max}(arr) - \\text{min}(arr)}$$\n"
      ]
    },
    {
      "cell_type": "code",
      "execution_count": null,
      "metadata": {
        "id": "Nwo7_e0xQB9l"
      },
      "outputs": [],
      "source": [
        "def min_max_scaled(arr: np.ndarray) -> np.ndarray:\n",
        "  \"\"\"Scales the elements of `arr` by their minimum and maximum values.\n",
        "  \n",
        "  This function scales the elements of a n-dimensional array `arr` by \n",
        "  the minimum and maximum values along each of its dimensions.\n",
        "  \n",
        "  Args:\n",
        "    arr: The array to be scaled.\n",
        "  \n",
        "  Returns:\n",
        "    A new array with the same shape as `arr`, with its elements scaled\n",
        "    by their minimum and maximum values.\n",
        "  \"\"\"\n",
        "  return (arr - arr.min(axis=0)) / (arr.max(axis=0) - arr.min(axis=0))\n",
        "\n",
        "def mean_normalisation(arr: np.ndarray) -> np.ndarray:\n",
        "  \"\"\"Normalizes the elements of `arr` by their mean value.\n",
        "  \n",
        "  This function normalizes the elements of a n-dimensional array `arr` by\n",
        "  the mean value along each of its dimensions.\n",
        "  \n",
        "  Args:\n",
        "    arr: The array to be normalized.\n",
        "  \n",
        "  Returns:\n",
        "    A new array with the same shape as `arr`, with its elements normalized\n",
        "    by their mean value.\n",
        "  \"\"\"\n",
        "  return (arr - arr.mean(axis=0)) / (arr.max(axis=0) - arr.min(axis=0))\n",
        "\n",
        "def scale_and_normalize(arr: np.ndarray) -> np.ndarray:\n",
        "  \"\"\"Scales and normalizes the elements of `arr` by their minimum and maximum values.\n",
        "  \n",
        "  This function first scales the elements of `arr` by their minimum and maximum\n",
        "  values, and then normalizes the scaled elements by their mean value.\n",
        "  \n",
        "  Args:\n",
        "    arr: The array to be scaled and normalized.\n",
        "  \n",
        "  Returns:\n",
        "    A new array with the same shape as `arr`, with its elements scaled\n",
        "    and normalized as described above.\n",
        "  \"\"\"\n",
        "  return mean_normalisation(min_max_scaled(arr))"
      ]
    },
    {
      "cell_type": "code",
      "execution_count": null,
      "metadata": {
        "id": "VxUJsJoi5G7J"
      },
      "outputs": [],
      "source": [
        "for dataset in data:\n",
        "  raw_columns = data[dataset][\"raw\"][\"x\"][\"columns\"]\n",
        "  raw_data = data[dataset][\"raw\"][\"x\"][\"ndarray\"]\n",
        "\n",
        "  fs_columns = data[dataset][\"fs\"][\"x\"][\"columns\"]\n",
        "  fs_data = data[dataset][\"fs\"][\"x\"][\"ndarray\"]\n",
        "    \n",
        "    #Data after normalisation\n",
        "\n",
        "  data[dataset][\"raw+norm\"][\"x\"][\"ndarray\"] = scale_and_normalize(raw_data)\n",
        "  data[dataset][\"raw+norm\"][\"x\"][\"columns\"] = raw_columns\n",
        "  data[dataset][\"raw+norm\"][\"y\"] = data[dataset][\"raw\"][\"y\"]\n",
        "    #Data after feature selection and normalization\n",
        "\n",
        "  data[dataset][\"fs+norm\"][\"x\"][\"ndarray\"] = scale_and_normalize(fs_data)\n",
        "  data[dataset][\"fs+norm\"][\"x\"][\"columns\"] = fs_columns\n",
        "  data[dataset][\"fs+norm\"][\"y\"] = data[dataset][\"fs\"][\"y\"]"
      ]
    },
    {
      "cell_type": "markdown",
      "metadata": {
        "id": "7Z9W2KNv0ypb"
      },
      "source": [
        "## PCA ( Principal Component Analysis )"
      ]
    },
    {
      "cell_type": "markdown",
      "metadata": {
        "id": "wo-1YbxU2cZL"
      },
      "source": [
        "PCA is a dimensionality reduction technique that can be used to reduce the number of features in a dataset while retaining as much of the original information as possible. \n",
        "\n",
        "The `PCA` class below takes a dataset as input and computes its covariance matrix, eigenvalues, and eigenvectors. In PCA, the eigenvectors of the covariance matrix are the principal components, and the eigenvalues are the corresponding variances along each principal component.\n",
        "\n",
        "Our implementation of `PCA` provides two methods: `project`, which projects the dataset onto the principal components, and `determine_components`, which determines the number of principal components required to explain a given threshold of variance in the data. \n",
        "\n",
        "Although here we are using PCA to reduce the number of features in our dataset, like other dimensionality reduction algorithms ( e.g. t-SNE ), it can also be used for visualizing high-dimensional data in lower dimensions."
      ]
    },
    {
      "cell_type": "code",
      "execution_count": null,
      "metadata": {
        "id": "RCDT3DW5qdAD"
      },
      "outputs": [],
      "source": [
        "class PCA(object):\n",
        "    def __init__(self,X):\n",
        "      \"\"\"Perform Principal Component Analysis on a given dataset.\n",
        "\n",
        "      Args:\n",
        "        X: 2D numpy array of the dataset.\n",
        "\n",
        "      Returns:\n",
        "        None.\n",
        "      \"\"\"\n",
        "      self.X = X\n",
        "      self.covariance_matrix = np.cov(X, rowvar=False)\n",
        "      eigenvalues, eigenvectors = np.linalg.eigh(self.covariance_matrix)\n",
        "      sorted_tuples = sorted(list(zip(eigenvalues, eigenvectors)), key=lambda x: x[0], reverse=True)\n",
        "      eigenvalues, eigenvectors = list(zip(*sorted_tuples))\n",
        "      eigenvectors = np.array([np.array(x) for x in eigenvectors]) \n",
        "      self.eigenvalues = eigenvalues\n",
        "      self.eigenvalues_sum = sum(eigenvalues)\n",
        "      self.eigenvectors = eigenvectors\n",
        "      self.explained_variance = [ (x / self.eigenvalues_sum) for x in self.eigenvalues]\n",
        "      self.cumulative_explained_variance = np.cumsum(self.explained_variance)\n",
        "  \n",
        "    def project(self, components=2):\n",
        "      \"\"\"Projects the dataset onto the given number of principal components.\n",
        "\n",
        "      Args:\n",
        "        components: The number of principal components to project the data onto.\n",
        "          Default is 2.\n",
        "\n",
        "      Returns:\n",
        "        The projected dataset.\n",
        "      \"\"\"\n",
        "      projection_matrix = self.eigenvectors[:components, :]\n",
        "      return self.X.dot(projection_matrix.T)\n",
        "\n",
        "    def determine_components(self, threshold=0.95):\n",
        "      \"\"\"Determines the number of principal components required to explain the given threshold of variance.\n",
        "\n",
        "      Args:\n",
        "        threshold: The required threshold of variance that must be explained. Default is 0.95.\n",
        "\n",
        "      Returns:\n",
        "        The number of principal components required to explain the given threshold of variance.\n",
        "      \"\"\"\n",
        "      for idx, item in enumerate(self.cumulative_explained_variance):\n",
        "        if item >= threshold:\n",
        "          return idx + 1"
      ]
    },
    {
      "cell_type": "code",
      "execution_count": null,
      "metadata": {
        "id": "gGEyNq857W2t",
        "outputId": "a39c4299-4848-4a3b-ce1c-5572ca0b050e"
      },
      "outputs": [
        {
          "name": "stdout",
          "output_type": "stream",
          "text": [
            "Components for split test, dataset raw+norm: 6\n",
            "6 [0.32166702 0.54660085 0.69534578 0.81143348 0.90260895 0.96838896\n",
            " 0.99359603 0.99843089 0.99926529 0.99997813 0.99999695 0.99999891\n",
            " 0.99999993 0.99999999 1.        ]\n",
            "Components for split test, dataset fs+norm: 6\n",
            "6 [0.2726752  0.47520966 0.63782478 0.77018726 0.89256037 0.96045351\n",
            " 0.99231487 0.99851002 0.99948189 0.99999972 1.        ]\n",
            "Components for split train+dev, dataset raw+norm: 6\n",
            "6 [0.29540117 0.50075803 0.66389256 0.78420554 0.88681922 0.95199141\n",
            " 0.98218102 0.99429766 0.99827316 0.99926746 0.99999861 0.99999993\n",
            " 0.99999998 0.99999999 1.        ]\n",
            "Components for split train+dev, dataset fs+norm: 6\n",
            "6 [0.2295924  0.44171455 0.63117002 0.76757864 0.9002248  0.95721192\n",
            " 0.98068465 0.99396184 0.99886513 0.99999969 1.        ]\n"
          ]
        }
      ],
      "source": [
        "norm_datasets = []\n",
        "for split in data:\n",
        "  for dataset in data[split]:\n",
        "    if dataset.endswith(\"norm\"):\n",
        "      norm_datasets.append((split, dataset))\n",
        "\n",
        "for split, dataset in norm_datasets:\n",
        "    norm_data = data[split][dataset][\"x\"][\"ndarray\"]\n",
        "    norm_columns = data[split][dataset][\"x\"][\"columns\"]\n",
        "\n",
        "    pca = PCA(norm_data)\n",
        "    components = pca.determine_components(threshold=PCA_THRESHOLD)\n",
        "    print(f\"Components for split {split}, dataset {dataset}: {components}\")\n",
        "    X_projection = pca.project(components=components)\n",
        "    print(components, pca.cumulative_explained_variance)\n",
        "\n",
        "    new_dataset = dataset + \"+\" + \"pca\"\n",
        "    data[split][new_dataset][\"x\"][\"ndarray\"] = X_projection\n",
        "    data[split][new_dataset][\"x\"][\"columns\"] = list(range(X_projection.shape[1]))\n",
        "    data[split][new_dataset][\"y\"] = data[split][dataset][\"y\"]"
      ]
    },
    {
      "cell_type": "code",
      "execution_count": null,
      "metadata": {
        "id": "7oLr42KS8lB-",
        "outputId": "f7e3572e-87e4-4005-c971-ce3df9a99a9f"
      },
      "outputs": [
        {
          "name": "stdout",
          "output_type": "stream",
          "text": [
            "{\n",
            "    \"test\": {\n",
            "        \"raw\": {\n",
            "            \"y\": {\n",
            "                \"ndarray\": 84110,\n",
            "                \"columns\": 1\n",
            "            },\n",
            "            \"x\": {\n",
            "                \"ndarray\": 84110,\n",
            "                \"columns\": 15\n",
            "            }\n",
            "        },\n",
            "        \"fs\": {\n",
            "            \"x\": {\n",
            "                \"ndarray\": 84110,\n",
            "                \"columns\": 11\n",
            "            },\n",
            "            \"y\": {\n",
            "                \"ndarray\": 84110,\n",
            "                \"columns\": 1\n",
            "            }\n",
            "        },\n",
            "        \"raw+norm\": {\n",
            "            \"x\": {\n",
            "                \"ndarray\": 84110,\n",
            "                \"columns\": 15\n",
            "            },\n",
            "            \"y\": {\n",
            "                \"ndarray\": 84110,\n",
            "                \"columns\": 1\n",
            "            }\n",
            "        },\n",
            "        \"fs+norm\": {\n",
            "            \"x\": {\n",
            "                \"ndarray\": 84110,\n",
            "                \"columns\": 11\n",
            "            },\n",
            "            \"y\": {\n",
            "                \"ndarray\": 84110,\n",
            "                \"columns\": 1\n",
            "            }\n",
            "        },\n",
            "        \"raw+norm+pca\": {\n",
            "            \"x\": {\n",
            "                \"ndarray\": 84110,\n",
            "                \"columns\": 6\n",
            "            },\n",
            "            \"y\": {\n",
            "                \"ndarray\": 84110,\n",
            "                \"columns\": 1\n",
            "            }\n",
            "        },\n",
            "        \"fs+norm+pca\": {\n",
            "            \"x\": {\n",
            "                \"ndarray\": 84110,\n",
            "                \"columns\": 6\n",
            "            },\n",
            "            \"y\": {\n",
            "                \"ndarray\": 84110,\n",
            "                \"columns\": 1\n",
            "            }\n",
            "        }\n",
            "    },\n",
            "    \"train+dev\": {\n",
            "        \"raw\": {\n",
            "            \"y\": {\n",
            "                \"ndarray\": 336440,\n",
            "                \"columns\": 1\n",
            "            },\n",
            "            \"x\": {\n",
            "                \"ndarray\": 336440,\n",
            "                \"columns\": 15\n",
            "            }\n",
            "        },\n",
            "        \"fs\": {\n",
            "            \"x\": {\n",
            "                \"ndarray\": 336440,\n",
            "                \"columns\": 11\n",
            "            },\n",
            "            \"y\": {\n",
            "                \"ndarray\": 336440,\n",
            "                \"columns\": 1\n",
            "            }\n",
            "        },\n",
            "        \"raw+norm\": {\n",
            "            \"x\": {\n",
            "                \"ndarray\": 336440,\n",
            "                \"columns\": 15\n",
            "            },\n",
            "            \"y\": {\n",
            "                \"ndarray\": 336440,\n",
            "                \"columns\": 1\n",
            "            }\n",
            "        },\n",
            "        \"fs+norm\": {\n",
            "            \"x\": {\n",
            "                \"ndarray\": 336440,\n",
            "                \"columns\": 11\n",
            "            },\n",
            "            \"y\": {\n",
            "                \"ndarray\": 336440,\n",
            "                \"columns\": 1\n",
            "            }\n",
            "        },\n",
            "        \"raw+norm+pca\": {\n",
            "            \"x\": {\n",
            "                \"ndarray\": 336440,\n",
            "                \"columns\": 6\n",
            "            },\n",
            "            \"y\": {\n",
            "                \"ndarray\": 336440,\n",
            "                \"columns\": 1\n",
            "            }\n",
            "        },\n",
            "        \"fs+norm+pca\": {\n",
            "            \"x\": {\n",
            "                \"ndarray\": 336440,\n",
            "                \"columns\": 6\n",
            "            },\n",
            "            \"y\": {\n",
            "                \"ndarray\": 336440,\n",
            "                \"columns\": 1\n",
            "            }\n",
            "        }\n",
            "    }\n",
            "}\n"
          ]
        }
      ],
      "source": [
        "print(visualize_data(data))"
      ]
    },
    {
      "cell_type": "markdown",
      "metadata": {
        "id": "4KooEx16IhxD"
      },
      "source": [
        "# Model development"
      ]
    },
    {
      "cell_type": "markdown",
      "metadata": {
        "id": "S7D6aPp8IAQi"
      },
      "source": [
        "In this section, we will develop and evaluate an LSTM model. The LSTM model has two different number of hidden layers (e.g. one layer and two layers). "
      ]
    },
    {
      "cell_type": "markdown",
      "metadata": {
        "id": "m_NSsXD2H9QZ"
      },
      "source": [
        "## LSTM"
      ]
    },
    {
      "cell_type": "code",
      "execution_count": null,
      "metadata": {
        "id": "0r3WvNTzlsAW"
      },
      "outputs": [],
      "source": [
        "# initializing the device\n",
        "device = 'cuda:0' if torch.cuda.is_available() else 'cpu'\n",
        "\n",
        "# setting the random seed\n",
        "SEED = 42\n",
        "\n",
        "random.seed(SEED)\n",
        "np.random.seed(SEED)\n",
        "torch.manual_seed(SEED)\n",
        "torch.cuda.manual_seed_all(SEED)\n",
        "\n",
        "'''\n",
        "Taking a list of random numbers with a range from 0 to the total number of train+dev samples. The purpose is to create a random subset of\n",
        "train+dev dataset since we are unable to train LSTM with the full dataset due to lack of computational resources.\n",
        "''' \n",
        "total_samples = 15000 # number of samples in the train+dev set. Please change this value to create your subset.\n",
        "dev_samples = 5000 # we are taking 5000 samples for the dev set \n",
        "lst = list(range(0,pd.DataFrame(data['train+dev']['raw']['y']['ndarray'], columns=['temp']).shape[0])) # creating a list\n",
        "random.shuffle(lst) # shuffle the list\n",
        "lst = lst[:total_samples] # take the number of samples we want in our train+dev subset"
      ]
    },
    {
      "cell_type": "code",
      "execution_count": null,
      "metadata": {
        "id": "oeBvMrEw0Z6w"
      },
      "outputs": [],
      "source": [
        "# data preprocessing\n",
        "'''\n",
        "This function takes an input feature type and returns the training, dev and test set tensors required for the LSTM model\n",
        "'''\n",
        "\n",
        "def prepare_data(feature_type):\n",
        "    # preparing the train and dev sets\n",
        "    X = pd.DataFrame(data['train+dev'][feature_type]['x']['ndarray']).iloc[lst] # creating a subset dataframe by using our list with random numbers\n",
        "    y = pd.DataFrame(data['train+dev']['raw']['y']['ndarray'], columns=['temp']).iloc[lst] # creating a subset dataframe by using our list with random numbers\n",
        "    X_train, X_dev, y_train, y_dev = train_test_split(X, y, test_size=dev_samples, random_state=SEED) # split the dataset into train and dev\n",
        "\n",
        "    train_x_tensor = torch.tensor(X_train.values, dtype=torch.float32, device=device) # converting the train dataframe into tensor\n",
        "    dev_x_tensor = torch.tensor(X_dev.values, dtype=torch.float32, device=device) # converting the dev dataframe into tensor\n",
        "    train_y_tensor = torch.tensor(y_train['temp'].values, dtype=torch.float32, device=device) # converting the train label dataframe into tensor\n",
        "    dev_y_tensor = torch.tensor(y_dev['temp'].values, dtype=torch.float32, device=device) # converting the dev label dataframe into tensor\n",
        "    \n",
        "    # preparing the test set\n",
        "    test_x_df = pd.DataFrame(data['test'][feature_type]['x']['ndarray']) # we are taking the full test set as it is\n",
        "    test_x_tensor = torch.tensor(test_x_df.values, dtype=torch.float32, device=device) # converting it into tensor\n",
        "\n",
        "    test_y_df = pd.DataFrame(data['test']['raw']['y']['ndarray'], columns=['temp']) # doing the same for the labels\n",
        "    test_y_tensor = torch.tensor(test_y_df['temp'].values, dtype=torch.float32, device=device) # converting it into tensor\n",
        "\n",
        "    return train_x_tensor, train_y_tensor, dev_x_tensor, dev_y_tensor, test_x_tensor, test_y_tensor\n"
      ]
    },
    {
      "cell_type": "code",
      "execution_count": null,
      "metadata": {
        "id": "UHb7css_yDus"
      },
      "outputs": [],
      "source": [
        "'''\n",
        "This class trains an LSTM with one/two hidden layers without using any built-in LSTM function\n",
        "'''\n",
        "\n",
        "class LSTM(torch.nn.Module):\n",
        "\n",
        "    def __init__(self, input_size, hidden_size, batch_size, num_of_features):\n",
        "        super().__init__()\n",
        "        self.linear_gi1 = torch.nn.Linear(hidden_size + input_size, hidden_size) # input gate for the first hidden layer\n",
        "        self.linear_gf1 = torch.nn.Linear(hidden_size + input_size, hidden_size) # forget gate for the first hidden layer\n",
        "        self.linear_go1 = torch.nn.Linear(hidden_size + input_size, hidden_size) # output gate for the first hidden layer\n",
        "        self.linear_c1 = torch.nn.Linear(hidden_size + input_size, hidden_size) # cell state for the first hidden layer\n",
        "        \n",
        "        self.linear_gi2 = torch.nn.Linear(hidden_size, hidden_size) # input gate for the second hidden layer\n",
        "        self.linear_gf2 = torch.nn.Linear(hidden_size, hidden_size) # forget gate for the second hidden layer\n",
        "        self.linear_go2 = torch.nn.Linear(hidden_size, hidden_size) # output gate for the second hidden layer\n",
        "        self.linear_c2 = torch.nn.Linear(hidden_size, hidden_size) # cell state for the second hidden layer\n",
        "        self.output_layer = torch.nn.Linear(num_of_features, 1) # output layer provides a single number as output since batch_size = 1\n",
        "\n",
        "    def forward(self, train_x_tensor, start_point, batch_size, num_of_layers):\n",
        "        c1 = torch.zeros(1, dtype=torch.float32, device=device) # initializing the cell state\n",
        "        state = torch.zeros(1, dtype=torch.float32, device=device) # initializing the hidden state\n",
        "        interim_states = []\n",
        "\n",
        "        # first LSTM layer\n",
        "        for t in range(train_x_tensor.shape[1]):\n",
        "          state_input_cat = torch.cat((state, train_x_tensor[start_point:start_point + batch_size, t]), dim=0) # concatenate the input with the hidden state\n",
        "          gi1 = torch.sigmoid(self.linear_gi1(state_input_cat))\n",
        "          gf1 = torch.sigmoid(self.linear_gf1(state_input_cat))\n",
        "          go1 = torch.sigmoid(self.linear_go1(state_input_cat))\n",
        "          c1 = gi1*torch.tanh(self.linear_c1(state_input_cat)) + gf1*c1 # performing the LSTM operation to get updated cell state\n",
        "          state = go1*torch.tanh(c1) # performing the LSTM operation to get updated hidden state\n",
        "          interim_states.append(state)\n",
        "        interim_states1 = torch.stack(interim_states, dim=1) # interim states stacked together and will be used as input for the second layer\n",
        "        \n",
        "        if num_of_layers == 1: # if the number of layers is 1, then, pass the interim states from the first LSTM layer to the linear output layer\n",
        "          return self.output_layer(interim_states1)\n",
        "\n",
        "        # second LSTM layer\n",
        "        c2 = torch.tensor([0], dtype=torch.float32, device=device)\n",
        "        state = torch.tensor([0], dtype=torch.float32, device=device)\n",
        "        interim_states = []\n",
        "        for t in range(train_x_tensor.shape[1]):\n",
        "          gi2 = torch.sigmoid(self.linear_gi2(interim_states1[:, t])) # interim state from the first layer is passed as an input\n",
        "          gf2 = torch.sigmoid(self.linear_gf2(interim_states1[:, t]))\n",
        "          go2 = torch.sigmoid(self.linear_go2(interim_states1[:, t]))\n",
        "          c2 = gi2*torch.tanh(self.linear_c2(interim_states1[:, t])) + gf2*c2 # performing the LSTM operation to get updated cell state\n",
        "          state = go2*torch.tanh(c2) # performing the LSTM operation to get updated hidden state\n",
        "          interim_states.append(state)\n",
        "        interim_states2 = torch.stack(interim_states, dim=1)\n",
        "            \n",
        "        return self.output_layer(interim_states2) # pass the interim states from the second LSTM layer to the linear output layer"
      ]
    },
    {
      "cell_type": "code",
      "execution_count": null,
      "metadata": {
        "id": "NYmPbIAPozR9"
      },
      "outputs": [],
      "source": [
        "'''\n",
        "This class utilizes the LSTMCell built-in function provided by PyTorch.\n",
        "''' \n",
        "\n",
        "class LSTM_PYTORCH(torch.nn.Module):\n",
        "\n",
        "    def __init__(self, input_size, hidden_size, batch_size, num_of_features):\n",
        "        super().__init__()\n",
        "        self.rnn1_cell = torch.nn.LSTMCell(hidden_size + input_size, hidden_size) # lstm cell for the first layer\n",
        "        self.rnn2_cell = torch.nn.LSTMCell(hidden_size, hidden_size) # lstm cell for the second layer\n",
        "        self.output_layer = torch.nn.Linear(num_of_features, 1) \n",
        "\n",
        "    def forward(self, input_x_tensor, start_point, batch_size, num_of_layers):\n",
        "        c = torch.tensor([0], dtype=torch.float32, device=device) # initializing the cell state for the first layer\n",
        "        state = torch.tensor([0], dtype=torch.float32, device=device) # initializing the hidden state for the first layer\n",
        "        interm_states = []\n",
        "    \n",
        "        for t in range(input_x_tensor.shape[1]):\n",
        "          (state, c) = self.rnn1_cell(torch.cat((state, input_x_tensor[start_point:start_point + batch_size, t]), dim=0), (state, c)) \n",
        "          interm_states.append(state)\n",
        "        interm_states1 = torch.stack(interm_states, dim=1)\n",
        "        if num_of_layers == 1:\n",
        "          return self.output_layer(interm_states1)\n",
        "\n",
        "        c = torch.tensor([0], dtype=torch.float32, device=device) # initializing the cell state for the second layer\n",
        "        state = torch.tensor([0], dtype=torch.float32, device=device) # initializing the cell state for the second layer\n",
        "        interm_states = []\n",
        "        for t in range(input_x_tensor.shape[1]):\n",
        "          (state, c) = self.rnn2_cell(interm_states1[:, t], (state, c))\n",
        "          interm_states.append(state)\n",
        "        interm_states2 = torch.stack(interm_states, dim=1)\n",
        "\n",
        "        return self.output_layer(interm_states2)"
      ]
    },
    {
      "cell_type": "code",
      "execution_count": null,
      "metadata": {
        "colab": {
          "base_uri": "https://localhost:8080/"
        },
        "id": "lbli5StKyncD",
        "outputId": "a14915df-ce39-4e2c-bfa8-3f34db1eacce"
      },
      "outputs": [
        {
          "name": "stdout",
          "output_type": "stream",
          "text": [
            "epoch train_MSE dev_MSE\n",
            "1 93.36243281027328 75.33628529509822\n",
            "2 70.81152356672713 70.8822541094963\n",
            "3 70.24874104009801 70.44965860389632\n",
            "4 69.60289863300281 69.99231545754463\n",
            "5 68.58878794057068 69.16267969893237\n",
            "6 66.9620398870202 67.63962667294916\n",
            "7 64.40494151581312 64.97707413952085\n",
            "8 60.52791325386936 60.63880180715217\n",
            "9 54.941464337818346 54.19214153469519\n",
            "10 47.53670332005673 45.774165760080535\n",
            "11 38.84084449931597 36.3628534320374\n",
            "12 29.844050533738024 27.24959220320703\n",
            "13 21.532408307923067 19.56475236770946\n",
            "14 14.725562555486325 14.089140084268886\n",
            "15 9.931308273760923 11.019250092887276\n",
            "16 7.107514087078259 9.78550383576156\n",
            "17 5.641653963534115 9.43235734727385\n",
            "18 4.832921803081104 9.349176832435015\n",
            "19 4.297375895021905 9.353154631379859\n",
            "20 3.9008885037752328 9.408354777264929\n",
            "21 3.5951654310895997 9.493053549296434\n",
            "22 3.352799856707035 9.589185706188044\n",
            "23 3.155451862888206 9.685988974424413\n",
            "24 2.9909792916903397 9.777950605310847\n",
            "25 2.851224848992873 9.862901313921908\n",
            "26 2.7305972812392216 9.93994123087487\n",
            "27 2.625157061448322 10.008914717661078\n",
            "28 2.532056300912045 10.070486100223158\n",
            "29 2.449155842086029 10.125178795634245\n",
            "30 2.374824054908056 10.173655546800813\n",
            "31 2.3077695646053127 10.216599320352723\n",
            "32 2.2469887621827485 10.254685822843868\n",
            "33 2.191627610932244 10.288449176515476\n",
            "34 2.140976855366116 10.318467968025315\n",
            "35 2.0944475500484505 10.345140131313334\n",
            "36 2.051550835349893 10.368915555617217\n",
            "37 2.0118545391773774 10.390072219885473\n",
            "38 1.9749911730866574 10.408905348789375\n",
            "39 1.9406423237408765 10.425880913752076\n",
            "40 1.9085349515544687 10.441142936659281\n",
            "\n"
          ]
        }
      ],
      "source": [
        "# training an LSTM\n",
        "\n",
        "feature_type = 'fs+norm' # setting the input feature type\n",
        "train_x_tensor, train_y_tensor, dev_x_tensor, dev_y_tensor, test_x_tensor, test_y_tensor = prepare_data(feature_type) # prepare the dataset\n",
        "\n",
        "# setting some hyper-parameters\n",
        "input_size = 1 # each time step, we are taking one number\n",
        "hidden_size = 1 # hidden state size\n",
        "batch_size = 1 # set the batch size\n",
        "num_of_features = pd.DataFrame(data['train+dev'][feature_type]['x']['ndarray']).shape[1]\n",
        "num_of_layers = 1 # number of LSTM layers\n",
        "\n",
        "\n",
        "lstm = LSTM(input_size, hidden_size, batch_size, num_of_features) # getting an instance of the model\n",
        "lstm.to(device)\n",
        "\n",
        "optimiser = torch.optim.Adam(lstm.parameters(), lr=1e-4) # using adam optimizer with a learning rate of 1e-4\n",
        "criterion = torch.nn.MSELoss() # setting the criterion\n",
        "\n",
        "print('epoch', 'train_MSE', 'dev_MSE')\n",
        "epochs = 40 # setting the number of epochs\n",
        "plot_train = []\n",
        "plot_dev = []\n",
        "iterations_train = int(train_x_tensor.shape[0]/batch_size)\n",
        "iterations_dev = int(dev_x_tensor.shape[0]/batch_size)\n",
        "\n",
        "for epoch in range(epochs):\n",
        "  start_point = 0 # starting from the first training sample\n",
        "  errors_train = []\n",
        "  for step in range(0, iterations_train):\n",
        "      optimiser.zero_grad() # we are not accumulating gradient\n",
        "      output = lstm(train_x_tensor, start_point, batch_size, num_of_layers) # passing a training sample forward and getting the output\n",
        "      error = criterion(output, train_y_tensor[start_point:start_point + batch_size].unsqueeze(1)) # calculating the MSE error\n",
        "      start_point = start_point + batch_size # updating the starting point\n",
        "      error.backward() # back-propagate the error\n",
        "      optimiser.step() # update the gradients\n",
        "      errors_train.append(error.detach().tolist()) # keeping a list of training errors for plotting MSE per epoch\n",
        "\n",
        "  errors_dev = []\n",
        "  start_point = 0 # staring from the first dev sample\n",
        " \n",
        "  for step in range(0, iterations_dev):\n",
        "      with torch.no_grad():\n",
        "          output = lstm(dev_x_tensor, start_point, batch_size, num_of_layers) # passing a dev sample forward and getting the output\n",
        "          error = criterion(output, dev_y_tensor[start_point:start_point + batch_size].unsqueeze(1)) # calculating the MSE error\n",
        "          start_point = start_point + batch_size # updating the starting point\n",
        "          errors_dev.append(error.detach().tolist()) # keeping a list of dev errors for plotting MSE per epoch\n",
        "\n",
        "  if True:\n",
        "          plot_train.append(sum(errors_train)/len(errors_train)) # for each epoch, keeping the train error\n",
        "          plot_dev.append(sum(errors_dev)/len(errors_dev)) # for each epoch, keeping the dev error\n",
        "          print(epoch + 1, sum(errors_train)/len(errors_train), sum(errors_dev)/len(errors_dev))\n",
        "print()"
      ]
    },
    {
      "cell_type": "code",
      "execution_count": null,
      "metadata": {
        "id": "Q4rJ_s-5iBXC"
      },
      "outputs": [],
      "source": [
        "# saving the model\n",
        "\n",
        "PATH = \"content/state_dict_model.pt\"\n",
        "torch.save(lstm, PATH)"
      ]
    },
    {
      "cell_type": "code",
      "execution_count": null,
      "metadata": {
        "id": "I-NfefhXKCb2"
      },
      "outputs": [],
      "source": [
        "# loading the model\n",
        "\n",
        "model = torch.load(PATH)\n",
        "model.eval()"
      ]
    },
    {
      "cell_type": "code",
      "execution_count": null,
      "metadata": {
        "id": "5RLQG8siKTiL",
        "outputId": "68b465ed-f6bf-4cb5-df14-297391e799d4"
      },
      "outputs": [
        {
          "data": {
            "image/png": "[encoded data removed]",
            "text/plain": [
              "<Figure size 900x468 with 1 Axes>"
            ]
          },
          "metadata": {
            "needs_background": "light"
          },
          "output_type": "display_data"
        }
      ],
      "source": [
        "# plotting the graph\n",
        "\n",
        "(fig, ax) = plt.subplots(1, 1)\n",
        "ax.set_xlabel('epoch')\n",
        "ax.set_ylabel('$MSE$')\n",
        "ax.plot(range(1, 40 + 1), plot_train, color='blue', linestyle='-', linewidth=3, label='train set')\n",
        "ax.plot(range(1, 40 + 1), plot_dev, color='green', linestyle='-', linewidth=3, label='dev set')\n",
        "ax.grid()\n",
        "fig = matplotlib.pyplot.gcf()\n",
        "fig.set_size_inches(12.5, 6.5)\n",
        "matplotlib.rc('font', size=14)\n",
        "plt.legend()\n",
        "plt.savefig('mse-epoch.png')"
      ]
    },
    {
      "cell_type": "code",
      "execution_count": null,
      "metadata": {
        "id": "JhzySFsAL2tP",
        "outputId": "2c9a59ba-3f9e-4e66-8c10-e8b889564bb7"
      },
      "outputs": [
        {
          "name": "stdout",
          "output_type": "stream",
          "text": [
            "9.737213240979774\n"
          ]
        }
      ],
      "source": [
        "# calculate MSE on the test set\n",
        "\n",
        "with torch.no_grad():\n",
        "    start_point = 0\n",
        "    errors = []\n",
        "    batch_size = 1\n",
        "    for i in range(0, test_x_tensor.shape[0]):\n",
        "      output = lstm(test_x_tensor, start_point, batch_size, num_of_layers)\n",
        "      error = criterion(output, test_y_tensor[start_point:start_point + batch_size].unsqueeze(1))\n",
        "      start_point = start_point + batch_size\n",
        "      errors.append(error.detach().tolist())\n",
        "    print(sum(errors)/len(errors))"
      ]
    },
    {
      "cell_type": "markdown",
      "metadata": {
        "id": "gZutcVZBWWdM"
      },
      "source": [
        "# Conclusions\n"
      ]
    },
    {
      "cell_type": "markdown",
      "metadata": {
        "id": "DYzbnyCBWd1O"
      },
      "source": [
        "Here, we get an MSE of 9.73 for an LSTM model with a single hidden layer and fs+norm input features. The detailed results of all of our experiments can be found in our report."
      ]
    }
  ],
  "metadata": {
    "accelerator": "GPU",
    "colab": {
      "collapsed_sections": [
        "-Ip-Ng-arjer",
        "hMur32w0eGJ6",
        "eCMv6aNYxogA",
        "3ojxlTSu-JvS",
        "yDelu8JY3tqg",
        "6zfAJ1zbympd",
        "VuwCe14co4dI",
        "xIgObx2zp_fn",
        "E9VqHMxtqj_W",
        "xsHpcK4HrcVG",
        "oNgUoLdK0tfD",
        "_Um7Kres0vv1",
        "7Z9W2KNv0ypb",
        "mA7zE5cE009i",
        "TQaTig_T07WC",
        "aIsSwsToA3u5",
        "AgTsq-JmA_xZ",
        "icrFR9c4Nc11",
        "RnW-677yCTGo",
        "acXhXHNzCV-f",
        "4erVNrQR9s2B",
        "u5hBBiwjFX9b",
        "az4e58CXFqCr",
        "ZlgfwLhRFpJj",
        "m_NSsXD2H9QZ",
        "G8GArbfxM0Me",
        "eMcJXXe8Nfx-",
        "x3zsxYplNhkF",
        "B0eWsNcnNsIM",
        "r10du-9hO9Ok",
        "aLz2D3t1QjNa",
        "kKEMxwVGQliB",
        "3exmFQbBQn9p",
        "Mq2pwcVMQs-h",
        "1Ng3wq6AQvCL",
        "HU-lLkJIQQU5",
        "C0NwA0qIWJzl",
        "DT2U41AyWNXF",
        "GgaTWMmAWHWF",
        "gZutcVZBWWdM"
      ],
      "provenance": []
    },
    "gpuClass": "standard",
    "kernelspec": {
      "display_name": "Python 3",
      "language": "python",
      "name": "python3"
    },
    "language_info": {
      "codemirror_mode": {
        "name": "ipython",
        "version": 3
      },
      "file_extension": ".py",
      "mimetype": "text/x-python",
      "name": "python",
      "nbconvert_exporter": "python",
      "pygments_lexer": "ipython3",
      "version": "3.7.6"
    }
  },
  "nbformat": 4,
  "nbformat_minor": 0
}